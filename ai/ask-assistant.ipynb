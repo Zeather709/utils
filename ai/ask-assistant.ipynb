{
 "cells": [
  {
   "cell_type": "code",
   "execution_count": 2,
   "metadata": {},
   "outputs": [],
   "source": [
    "import openai\n",
    "\n",
    "import json\n",
    "import os\n",
    "import time\n",
    "\n",
    "# Utility functions \n",
    "\n",
    "def show_json(obj):\n",
    "    display(json.loads(obj.model_dump_json()))\n",
    "\n",
    "# Pretty printing helper\n",
    "def pretty_print(messages):\n",
    "    print(\"# Messages\")\n",
    "    for m in messages:\n",
    "        print(f\"{m.role}: {m.content[0].text.value}\")\n",
    "    print()\n",
    "\n",
    "def submit_message(assistant_id, thread, user_message):\n",
    "    client.beta.threads.messages.create(\n",
    "        thread_id=thread.id, role=\"user\", content=user_message\n",
    "    )\n",
    "    return client.beta.threads.runs.create(\n",
    "        thread_id=thread.id,\n",
    "        assistant_id=assistant_id,\n",
    "    )\n",
    "\n",
    "def get_response(thread):\n",
    "    return client.beta.threads.messages.list(thread_id=thread.id, order=\"asc\")\n",
    "\n",
    "# Waiting in a loop\n",
    "def wait_on_run(run, thread):\n",
    "    while run.status == \"queued\" or run.status == \"in_progress\":\n",
    "        run = client.beta.threads.runs.retrieve(\n",
    "            thread_id=thread.id,\n",
    "            run_id=run.id,\n",
    "        )\n",
    "        time.sleep(0.5)\n",
    "    return run"
   ]
  },
  {
   "cell_type": "code",
   "execution_count": 6,
   "metadata": {},
   "outputs": [],
   "source": [
    "client = openai.OpenAI(api_key='sk-')"
   ]
  },
  {
   "cell_type": "code",
   "execution_count": 7,
   "metadata": {},
   "outputs": [
    {
     "data": {
      "text/plain": [
       "{'id': 'asst_S4T7h8v1AFzJTG6zj61C1yB7',\n",
       " 'created_at': 1707780361,\n",
       " 'description': None,\n",
       " 'file_ids': [],\n",
       " 'instructions': 'Assist me in drafting, editing, and refining my written content to save time and reduce stress. Provide creative ideas, grammar edits, and suggestions for improving overall structure. Understand context, offer time-saving tips, and allow for a feedback loop to tailor suggestions to my preferences.',\n",
       " 'metadata': {},\n",
       " 'model': 'gpt-4-turbo-preview',\n",
       " 'name': 'Writing Helper',\n",
       " 'object': 'assistant',\n",
       " 'tools': []}"
      ]
     },
     "metadata": {},
     "output_type": "display_data"
    }
   ],
   "source": [
    "# Select an existing assistant\n",
    "\n",
    "# Office Assistant\n",
    "#my_assistant = 'asst_MCSmXshsTZm5m0XQW4rCuT2A'\n",
    "\n",
    "# Python Developer\n",
    "#my_assistant = 'asst_Vd0Z45RM39eYy3L6V699kNEu'\n",
    "\n",
    "# ChatGPT API Teacher\n",
    "#my_assistant = 'asst_qbkd1JJzywJIFosmJJsDcCuT'\n",
    "\n",
    "# Data Visualizer \n",
    "#my_assistant = 'asst_zgoDWZKM8mxQEqU6SRqigiGa'\n",
    "\n",
    "# Writing Helper\n",
    "my_assistant = 'asst_S4T7h8v1AFzJTG6zj61C1yB7'\n",
    "\n",
    "# Synonym Finder\n",
    "#my_assistant = 'asst_iJmacG2mivOWhaioUnt2zaxR'\n",
    "\n",
    "assistant = client.beta.assistants.retrieve(my_assistant)\n",
    "\n",
    "# Or create a new one - comment everything above\n",
    "\n",
    "#assistant = client.beta.assistants.create(\n",
    "#    name=\"new_name\",\n",
    "#    instructions=\"what do you want the assistant to do?\",\n",
    "#    model=\"gpt-4-turbo-preview\",\n",
    "#)\n",
    "\n",
    "show_json(assistant)"
   ]
  },
  {
   "cell_type": "code",
   "execution_count": 8,
   "metadata": {},
   "outputs": [
    {
     "data": {
      "text/plain": [
       "{'id': 'thread_L3TVTWHcXnftGufkuZTx5rUo',\n",
       " 'created_at': 1710334531,\n",
       " 'metadata': {},\n",
       " 'object': 'thread'}"
      ]
     },
     "metadata": {},
     "output_type": "display_data"
    }
   ],
   "source": [
    "# Select an existing thread\n",
    "#my_thread = 'thread_OCIGSVfsdeqn3KL4GrzM4RRJ'\n",
    "\n",
    "#thread = client.beta.threads.retrieve(my_thread)\n",
    "\n",
    "# Or create a new one - comment everything above\n",
    "thread = client.beta.threads.create()\n",
    "\n",
    "show_json(thread)"
   ]
  },
  {
   "cell_type": "code",
   "execution_count": 14,
   "metadata": {},
   "outputs": [
    {
     "data": {
      "text/plain": [
       "Run(id='run_cRJsMEUwa28pafj0PF6my02V', assistant_id='asst_S4T7h8v1AFzJTG6zj61C1yB7', cancelled_at=None, completed_at=None, created_at=1710334619, expires_at=1710335219, failed_at=None, file_ids=[], instructions='Assist me in drafting, editing, and refining my written content to save time and reduce stress. Provide creative ideas, grammar edits, and suggestions for improving overall structure. Understand context, offer time-saving tips, and allow for a feedback loop to tailor suggestions to my preferences.', last_error=None, metadata={}, model='gpt-4-turbo-preview', object='thread.run', required_action=None, started_at=None, status='queued', thread_id='thread_L3TVTWHcXnftGufkuZTx5rUo', tools=[], usage=None)"
      ]
     },
     "execution_count": 14,
     "metadata": {},
     "output_type": "execute_result"
    }
   ],
   "source": [
    "new_message = \""\n",
    "\n",
    "submit_message(assistant.id, thread, new_message)"
   ]
  },
  {
   "cell_type": "code",
   "execution_count": 16,
   "metadata": {},
   "outputs": [
    {
     "name": "stdout",
     "output_type": "stream",
     "text": [
      "# Messages\n",
      "user: 
     ]
    }
   ],
   "source": [
    "pretty_print(get_response(thread))"
   ]
  },
  {
   "cell_type": "markdown",
   "metadata": {},
   "source": []
  },
  {
   "cell_type": "markdown",
   "metadata": {},
   "source": []
  }
 ],
 "metadata": {
  "kernelspec": {
   "display_name": "Python 3",
   "language": "python",
   "name": "python3"
  },
  "language_info": {
   "codemirror_mode": {
    "name": "ipython",
    "version": 3
   },
   "file_extension": ".py",
   "mimetype": "text/x-python",
   "name": "python",
   "nbconvert_exporter": "python",
   "pygments_lexer": "ipython3",
   "version": "3.12.2"
  }
 },
 "nbformat": 4,
 "nbformat_minor": 2
}
